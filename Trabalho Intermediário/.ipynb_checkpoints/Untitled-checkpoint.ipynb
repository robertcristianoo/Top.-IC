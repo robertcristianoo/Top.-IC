{
 "cells": [
  {
   "cell_type": "code",
   "execution_count": null,
   "metadata": {},
   "outputs": [],
   "source": [
    "from sklearn.datasets import load_iris\n",
    "from sklearn.neighbors import KNeighborsClassifier\n",
    "\n",
    "iris = load_iris() #carregamento do dataset\n",
    "iris.keys() #exibe as chaves(colunas)"
   ]
  },
  {
   "cell_type": "code",
   "execution_count": null,
   "metadata": {},
   "outputs": [],
   "source": [
    "print(iris['DESCR'][:193] + '\\n...') #Exibir a descrição do datasets"
   ]
  },
  {
   "cell_type": "code",
   "execution_count": null,
   "metadata": {},
   "outputs": [],
   "source": [
    "iris['feature_names'] #exibe o nome das caracteristicas usadas para classificação."
   ]
  },
  {
   "cell_type": "code",
   "execution_count": null,
   "metadata": {},
   "outputs": [],
   "source": [
    "iris['target_names'] #exibe o nome das classificações"
   ]
  },
  {
   "cell_type": "code",
   "execution_count": null,
   "metadata": {},
   "outputs": [],
   "source": [
    "print(iris['data'].shape) #shape exibe o tamanho do dataset\n",
    "iris['data'][:10] #exibe as 10 primeiras linhas"
   ]
  },
  {
   "cell_type": "code",
   "execution_count": null,
   "metadata": {},
   "outputs": [],
   "source": [
    "iris['target'] #exibe a classificação das flores de acordo com os target_names\n",
    "# 0 para setosa\n",
    "# 1 para versicolar\n",
    "# 2 para virginica"
   ]
  },
  {
   "cell_type": "code",
   "execution_count": null,
   "metadata": {},
   "outputs": [],
   "source": [
    "#criando o modelo de aprendizagem de maquina.\n",
    "import numpy\n",
    "knn = KNeighborsClassifier(n_neighbors = 3)\n",
    "X = iris.data[:,:3] #as caracteristicas\n",
    "y = iris.target #classificacao\n",
    "#dados de treinamento 'até 40' de cada classe\n",
    "xt = numpy.concatenate([X[:40,:], X[51:90,:], X[101:140,:]])\n",
    "yt = numpy.concatenate([y[:40], y[51:90], y[101:140]])\n",
    "knn.fit(xt,yt)\n",
    "\n",
    "#validacão com o restante dos dados\n",
    "xv = numpy.concatenate([X[40:50,:], X[90:100,:], X[140:150,:]])\n",
    "yv = numpy.concatenate([y[40:50], y[90:100], y[140:150]])\n",
    "yp = knn.predict(xv)\n",
    "\n",
    "print(yp) #resultado encontrado\n",
    "print(yv) #resultado esperado"
   ]
  },
  {
   "cell_type": "code",
   "execution_count": null,
   "metadata": {},
   "outputs": [],
   "source": [
    "#Precisão da predição\n",
    "knn.score(xv, yv) #Teste em porcentage.\n",
    "\n",
    "#alterar a quantidade de vizinhos (linha 3 do bloco anterior)\n",
    "#alterar a quantidade de caracteristicas (linha 4 do bloco anterior)"
   ]
  }
 ],
 "metadata": {
  "kernelspec": {
   "display_name": "Python 3",
   "language": "python",
   "name": "python3"
  },
  "language_info": {
   "codemirror_mode": {
    "name": "ipython",
    "version": 3
   },
   "file_extension": ".py",
   "mimetype": "text/x-python",
   "name": "python",
   "nbconvert_exporter": "python",
   "pygments_lexer": "ipython3",
   "version": "3.6.5"
  }
 },
 "nbformat": 4,
 "nbformat_minor": 2
}
