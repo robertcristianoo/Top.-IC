{
 "cells": [
  {
   "cell_type": "markdown",
   "metadata": {},
   "source": [
    "Código Enade"
   ]
  },
  {
   "cell_type": "code",
   "execution_count": 4,
   "metadata": {},
   "outputs": [
    {
     "name": "stdout",
     "output_type": "stream",
     "text": [
      "count    104970.000000\n",
      "mean         47.987678\n",
      "std          14.683704\n",
      "min           0.000000\n",
      "25%          37.700000\n",
      "50%          48.100000\n",
      "75%          58.400000\n",
      "max          98.100000\n",
      "Name: NT_GER, dtype: float64\n"
     ]
    },
    {
     "name": "stderr",
     "output_type": "stream",
     "text": [
      "C:\\ProgramData\\Anaconda3\\lib\\site-packages\\matplotlib\\axes\\_axes.py:6462: UserWarning: The 'normed' kwarg is deprecated, and has been replaced by the 'density' kwarg.\n",
      "  warnings.warn(\"The 'normed' kwarg is deprecated, and has been \"\n"
     ]
    },
    {
     "data": {
      "image/png": "[encoded data removed]",
      "text/plain": [
       "<Figure size 432x288 with 1 Axes>"
      ]
     },
     "metadata": {},
     "output_type": "display_data"
    }
   ],
   "source": [
    "import pandas\n",
    "import numpy as np\n",
    "import matplotlib.pyplot as plt\n",
    "import scipy.stats as stats\n",
    "\n",
    "enade2017 = pandas.read_csv(\"datasets\\MICRODADOS_ENADE_2017.txt\", sep=';',dtype={\"DS_VT_ESC_OFG\": str, \n",
    "                                                                               'DS_VT_ESC_OCE':str,\n",
    "                                                                              'DS_VT_ACE_OCE':str,\n",
    "                                                                              'NT_GER':str,\n",
    "                                                                              'NT_FG':str,\n",
    "                                                                              'NT_OBJ_FG':str,\n",
    "                                                                              'NT_DIS_FG':str,\n",
    "                                                                              'NT_CE':str,\n",
    "                                                                              'NT_OBJ_CE':str,\n",
    "                                                                              'NT_DIS_CE':str})\n",
    "\n",
    "\n",
    "enade2017.shape\n",
    "enade2017.columns[0:10]\n",
    "\n",
    "''' Codigos dos estados\n",
    "11 = Rondônia (RO)                              28 = Sergipe (SE)\n",
    "12 = Acre (AC)                                         29 = Bahia (BA)\n",
    "13 = Amazonas (AM)                            31 = Minas gerais (MG)\n",
    "14 = Roraima (RR)                                  32 = Espírito santo (ES)\n",
    "15 = Pará (PA)                                          33 = Rio de janeiro (RJ)\n",
    "16 = Amapa (AP)                                    35 = São paulo (SP)\n",
    "17 = Tocantins (TO)                               41 = Paraná (PR)\n",
    "21 = Maranhão (MA)                             42 = Santa catarina (SC)\n",
    "22 = Piauí (PI)                                           43 = Rio grande do sul (RS)\n",
    "23 = Ceará (CE)                                        50 = Mato grosso do sul (MS)\n",
    "24 = Rio Grande do Norte (RN)         51 = Mato grosso (MT)\n",
    "25 = Paraíba (PB)                                     52 = Goiás (GO)\n",
    "26 = Pernambuco (PE)                          53 = Distrito federal (DF)\n",
    "27 = Alagoas (AL)   \n",
    "'''\n",
    "\n",
    "''' Questão 17\n",
    "Em que tipo de escola você cursou o ensino médio?\n",
    "A = Todo em escola pública.\n",
    "B = Todo em escola privada (particular).\n",
    "C = Todo no exterior.\n",
    "D = A maior parte em escola pública.\n",
    "E = A maior parte em escola privada (particular).\n",
    "F = Parte no Brasil e parte no exterior\n",
    "'''\n",
    "\n",
    "''' CO_CATEGAD\n",
    "Código da categoria administrativa da IES\n",
    "1 = Pública Federal\n",
    "2 = Pública Estadual\n",
    "3 = Pública Municipal\n",
    "4 = Privada com fins lucrativos\n",
    "5 = Privada sem fins lucrativos\n",
    "7 = Especial\n",
    "'''\n",
    "\n",
    "tabela = pandas.DataFrame(enade2017, columns = ['NT_GER', 'CO_CATEGAD', 'QE_I17', 'CO_UF_CURSO'])\n",
    "\n",
    "##limpeza dos dados\n",
    "#substitui vírgula por ponto\n",
    "tabela['NT_GER'] = tabela['NT_GER'].str.replace(',', '.')\n",
    "\n",
    "tabela = tabela.loc[(tabela['NT_GER'].notnull())]\n",
    "tabela['NT_GER'] = pandas.to_numeric(tabela['NT_GER'])\n",
    "\n",
    "federal = tabela[tabela['CO_CATEGAD'] == 1]\n",
    "print(federal.NT_GER.describe())\n",
    "\n",
    "#Plot\n",
    "plt.hist(federal.NT_GER, 100, normed=True, color='green')\n",
    "plt.title('Instituições Federais')\n",
    "plt.show()"
   ]
  },
  {
   "cell_type": "code",
   "execution_count": null,
   "metadata": {},
   "outputs": [],
   "source": []
  }
 ],
 "metadata": {
  "kernelspec": {
   "display_name": "Python 3",
   "language": "python",
   "name": "python3"
  },
  "language_info": {
   "codemirror_mode": {
    "name": "ipython",
    "version": 3
   },
   "file_extension": ".py",
   "mimetype": "text/x-python",
   "name": "python",
   "nbconvert_exporter": "python",
   "pygments_lexer": "ipython3",
   "version": "3.6.5"
  }
 },
 "nbformat": 4,
 "nbformat_minor": 2
}
