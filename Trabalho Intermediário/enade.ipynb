{
 "cells": [
  {
   "cell_type": "markdown",
   "metadata": {},
   "source": [
    "Código Enade"
   ]
  },
  {
   "cell_type": "code",
   "execution_count": 8,
   "metadata": {},
   "outputs": [],
   "source": [
    "import pandas\n",
    "import numpy as np\n",
    "import matplotlib.pyplot as plt\n",
    "import scipy.stats as stats\n",
    "\n",
    "enade2017 = pandas.read_csv(\"datasets\\MICRODADOS_ENADE_2017.txt\", sep=';',dtype={\"DS_VT_ESC_OFG\": str, \n",
    "                                                                               'DS_VT_ESC_OCE':str,\n",
    "                                                                              'DS_VT_ACE_OCE':str,\n",
    "                                                                              'NT_GER':str,\n",
    "                                                                              'NT_FG':str,\n",
    "                                                                              'NT_OBJ_FG':str,\n",
    "                                                                              'NT_DIS_FG':str,\n",
    "                                                                              'NT_CE':str,\n",
    "                                                                              'NT_OBJ_CE':str,\n",
    "                                                                              'NT_DIS_CE':str})\n",
    "\n",
    "\n",
    "enade2017.shape\n",
    "enade2017.columns[0:10]\n",
    "\n",
    "''' Codigos dos estados\n",
    "11 = Rondônia (RO)                              28 = Sergipe (SE)\n",
    "12 = Acre (AC)                                         29 = Bahia (BA)\n",
    "13 = Amazonas (AM)                            31 = Minas gerais (MG)\n",
    "14 = Roraima (RR)                                  32 = Espírito santo (ES)\n",
    "15 = Pará (PA)                                          33 = Rio de janeiro (RJ)\n",
    "16 = Amapa (AP)                                    35 = São paulo (SP)\n",
    "17 = Tocantins (TO)                               41 = Paraná (PR)\n",
    "21 = Maranhão (MA)                             42 = Santa catarina (SC)\n",
    "22 = Piauí (PI)                                           43 = Rio grande do sul (RS)\n",
    "23 = Ceará (CE)                                        50 = Mato grosso do sul (MS)\n",
    "24 = Rio Grande do Norte (RN)         51 = Mato grosso (MT)\n",
    "25 = Paraíba (PB)                                     52 = Goiás (GO)\n",
    "26 = Pernambuco (PE)                          53 = Distrito federal (DF)\n",
    "27 = Alagoas (AL)   \n",
    "'''\n",
    "\n",
    "''' Questão 17\n",
    "Em que tipo de escola você cursou o ensino médio?\n",
    "A = Todo em escola pública.\n",
    "B = Todo em escola privada (particular).\n",
    "C = Todo no exterior.\n",
    "D = A maior parte em escola pública.\n",
    "E = A maior parte em escola privada (particular).\n",
    "F = Parte no Brasil e parte no exterior\n",
    "'''\n",
    "\n",
    "''' CO_CATEGAD\n",
    "Código da categoria administrativa da IES\n",
    "1 = Pública Federal\n",
    "2 = Pública Estadual\n",
    "3 = Pública Municipal\n",
    "4 = Privada com fins lucrativos\n",
    "5 = Privada sem fins lucrativos\n",
    "7 = Especial\n",
    "'''\n",
    "\n",
    "tabela = pandas.DataFrame(enade2017, columns = ['NT_GER', 'CO_CATEGAD', 'QE_I17', 'CO_UF_CURSO'])\n",
    "\n",
    "##limpeza dos dados\n",
    "#substitui vírgula por ponto\n",
    "tabela['NT_GER'] = tabela['NT_GER'].str.replace(',', '.')\n",
    "\n",
    "tabela = tabela.loc[(tabela['NT_GER'].notnull())]\n",
    "tabela = tabela.loc[(tabela['QE_I17'].notnull())]\n",
    "\n",
    "tabela['NT_GER'] = pandas.to_numeric(tabela['NT_GER'])\n",
    "\n",
    "tabela['QE_I17'] = tabela['QE_I17'].map({'A': 1, 'B': 2, 'C': 3, 'D': 4,'E': 5, 'F':6})\n",
    "#print(tabela['QE_I17'])"
   ]
  },
  {
   "cell_type": "code",
   "execution_count": 17,
   "metadata": {},
   "outputs": [],
   "source": [
    "federal = tabela[tabela['CO_CATEGAD'] == 1]\n",
    "estadual = tabela[tabela['CO_CATEGAD'] == 2]\n",
    "particular = tabela.loc[(tabela['CO_CATEGAD'] == 4) | (tabela['CO_CATEGAD'] == 5)]"
   ]
  },
  {
   "cell_type": "code",
   "execution_count": 18,
   "metadata": {},
   "outputs": [
    {
     "data": {
      "text/plain": [
       "<matplotlib.legend.Legend at 0x1873bdc7cf8>"
      ]
     },
     "execution_count": 18,
     "metadata": {},
     "output_type": "execute_result"
    },
    {
     "data": {
      "image/png": "[encoded data removed]",
      "text/plain": [
       "<Figure size 432x288 with 1 Axes>"
      ]
     },
     "metadata": {},
     "output_type": "display_data"
    }
   ],
   "source": [
    "federal.NT_GER.loc[federal.CO_CATEGAD == 1].hist(label = \"Federais\")\n",
    "estadual.NT_GER.loc[estadual.CO_CATEGAD == 2].hist(label = \"Estaduais\")\n",
    "\n",
    "\n",
    "plt.xlabel(\"Nota ENADE\")\n",
    "plt.ylabel(\"Quantidade de Alunos\")\n",
    "plt.legend()"
   ]
  },
  {
   "cell_type": "code",
   "execution_count": null,
   "metadata": {},
   "outputs": [],
   "source": []
  }
 ],
 "metadata": {
  "kernelspec": {
   "display_name": "Python 3",
   "language": "python",
   "name": "python3"
  },
  "language_info": {
   "codemirror_mode": {
    "name": "ipython",
    "version": 3
   },
   "file_extension": ".py",
   "mimetype": "text/x-python",
   "name": "python",
   "nbconvert_exporter": "python",
   "pygments_lexer": "ipython3",
   "version": "3.6.5"
  }
 },
 "nbformat": 4,
 "nbformat_minor": 2
}
