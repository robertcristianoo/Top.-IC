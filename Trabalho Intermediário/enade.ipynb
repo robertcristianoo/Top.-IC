{
 "cells": [
  {
   "cell_type": "markdown",
   "metadata": {},
   "source": [
    "Código Enade"
   ]
  },
  {
   "cell_type": "code",
   "execution_count": 25,
   "metadata": {},
   "outputs": [],
   "source": [
    "import pandas\n",
    "import numpy as np\n",
    "import matplotlib.pyplot as plt\n",
    "import scipy.stats as stats\n",
    "\n",
    "enade2017 = pandas.read_csv(\"datasets\\MICRODADOS_ENADE_2017.txt\", sep=';',dtype={\"DS_VT_ESC_OFG\": str, \n",
    "                                                                               'DS_VT_ESC_OCE':str,\n",
    "                                                                              'DS_VT_ACE_OCE':str,\n",
    "                                                                              'NT_GER':str,\n",
    "                                                                              'NT_FG':str,\n",
    "                                                                              'NT_OBJ_FG':str,\n",
    "                                                                              'NT_DIS_FG':str,\n",
    "                                                                              'NT_CE':str,\n",
    "                                                                              'NT_OBJ_CE':str,\n",
    "                                                                              'NT_DIS_CE':str})\n",
    "\n",
    "\n",
    "enade2017.shape\n",
    "enade2017.columns[0:10]\n",
    "\n",
    "''' CO_UF_CURSO\n",
    "11 = Rondônia (RO)                              28 = Sergipe (SE)\n",
    "12 = Acre (AC)                                         29 = Bahia (BA)\n",
    "13 = Amazonas (AM)                            31 = Minas gerais (MG)\n",
    "14 = Roraima (RR)                                  32 = Espírito santo (ES)\n",
    "15 = Pará (PA)                                          33 = Rio de janeiro (RJ)\n",
    "16 = Amapa (AP)                                    35 = São paulo (SP)\n",
    "17 = Tocantins (TO)                               41 = Paraná (PR)\n",
    "21 = Maranhão (MA)                             42 = Santa catarina (SC)\n",
    "22 = Piauí (PI)                                           43 = Rio grande do sul (RS)\n",
    "23 = Ceará (CE)                                        50 = Mato grosso do sul (MS)\n",
    "24 = Rio Grande do Norte (RN)         51 = Mato grosso (MT)\n",
    "25 = Paraíba (PB)                                     52 = Goiás (GO)\n",
    "26 = Pernambuco (PE)                          53 = Distrito federal (DF)\n",
    "27 = Alagoas (AL)   \n",
    "'''\n",
    "\n",
    "''' QE_I17\n",
    "Em que tipo de escola você cursou o ensino médio?\n",
    "A = Todo em escola pública.\n",
    "B = Todo em escola privada (particular).\n",
    "C = Todo no exterior.\n",
    "D = A maior parte em escola pública.\n",
    "E = A maior parte em escola privada (particular).\n",
    "F = Parte no Brasil e parte no exterior\n",
    "'''\n",
    "\n",
    "''' CO_CATEGAD\n",
    "Código da categoria administrativa da IES\n",
    "1 = Pública Federal\n",
    "2 = Pública Estadual\n",
    "3 = Pública Municipal\n",
    "4 = Privada com fins lucrativos\n",
    "5 = Privada sem fins lucrativos\n",
    "7 = Especial\n",
    "'''\n",
    "\n",
    "tabela = pandas.DataFrame(enade2017, columns = ['NT_GER', 'CO_CATEGAD', 'QE_I17', 'CO_UF_CURSO'])\n",
    "\n",
    "##limpeza dos dados\n",
    "#substitui vírgula por ponto\n",
    "tabela['NT_GER'] = tabela['NT_GER'].str.replace(',', '.')"
   ]
  },
  {
   "cell_type": "code",
   "execution_count": 26,
   "metadata": {},
   "outputs": [
    {
     "data": {
      "text/html": [
       "<div>\n",
       "<style scoped>\n",
       "    .dataframe tbody tr th:only-of-type {\n",
       "        vertical-align: middle;\n",
       "    }\n",
       "\n",
       "    .dataframe tbody tr th {\n",
       "        vertical-align: top;\n",
       "    }\n",
       "\n",
       "    .dataframe thead th {\n",
       "        text-align: right;\n",
       "    }\n",
       "</style>\n",
       "<table border=\"1\" class=\"dataframe\">\n",
       "  <thead>\n",
       "    <tr style=\"text-align: right;\">\n",
       "      <th></th>\n",
       "      <th>NT_GER</th>\n",
       "      <th>CO_CATEGAD</th>\n",
       "      <th>QE_I17</th>\n",
       "      <th>CO_UF_CURSO</th>\n",
       "    </tr>\n",
       "  </thead>\n",
       "  <tbody>\n",
       "    <tr>\n",
       "      <th>0</th>\n",
       "      <td>52.6</td>\n",
       "      <td>1</td>\n",
       "      <td>2</td>\n",
       "      <td>51</td>\n",
       "    </tr>\n",
       "    <tr>\n",
       "      <th>1</th>\n",
       "      <td>63.1</td>\n",
       "      <td>1</td>\n",
       "      <td>1</td>\n",
       "      <td>51</td>\n",
       "    </tr>\n",
       "    <tr>\n",
       "      <th>2</th>\n",
       "      <td>33.7</td>\n",
       "      <td>1</td>\n",
       "      <td>2</td>\n",
       "      <td>51</td>\n",
       "    </tr>\n",
       "    <tr>\n",
       "      <th>3</th>\n",
       "      <td>58.1</td>\n",
       "      <td>1</td>\n",
       "      <td>1</td>\n",
       "      <td>51</td>\n",
       "    </tr>\n",
       "    <tr>\n",
       "      <th>4</th>\n",
       "      <td>46.3</td>\n",
       "      <td>1</td>\n",
       "      <td>2</td>\n",
       "      <td>51</td>\n",
       "    </tr>\n",
       "    <tr>\n",
       "      <th>5</th>\n",
       "      <td>64.2</td>\n",
       "      <td>1</td>\n",
       "      <td>1</td>\n",
       "      <td>51</td>\n",
       "    </tr>\n",
       "    <tr>\n",
       "      <th>6</th>\n",
       "      <td>41.4</td>\n",
       "      <td>1</td>\n",
       "      <td>1</td>\n",
       "      <td>51</td>\n",
       "    </tr>\n",
       "    <tr>\n",
       "      <th>7</th>\n",
       "      <td>48.8</td>\n",
       "      <td>1</td>\n",
       "      <td>2</td>\n",
       "      <td>51</td>\n",
       "    </tr>\n",
       "    <tr>\n",
       "      <th>8</th>\n",
       "      <td>52.9</td>\n",
       "      <td>1</td>\n",
       "      <td>1</td>\n",
       "      <td>51</td>\n",
       "    </tr>\n",
       "    <tr>\n",
       "      <th>9</th>\n",
       "      <td>62.7</td>\n",
       "      <td>1</td>\n",
       "      <td>2</td>\n",
       "      <td>51</td>\n",
       "    </tr>\n",
       "  </tbody>\n",
       "</table>\n",
       "</div>"
      ],
      "text/plain": [
       "   NT_GER  CO_CATEGAD  QE_I17  CO_UF_CURSO\n",
       "0    52.6           1       2           51\n",
       "1    63.1           1       1           51\n",
       "2    33.7           1       2           51\n",
       "3    58.1           1       1           51\n",
       "4    46.3           1       2           51\n",
       "5    64.2           1       1           51\n",
       "6    41.4           1       1           51\n",
       "7    48.8           1       2           51\n",
       "8    52.9           1       1           51\n",
       "9    62.7           1       2           51"
      ]
     },
     "execution_count": 26,
     "metadata": {},
     "output_type": "execute_result"
    }
   ],
   "source": [
    "tabela = tabela.loc[(tabela['NT_GER'].notnull())]\n",
    "tabela = tabela.loc[(tabela['QE_I17'].notnull())]\n",
    "tabela = tabela.loc[(tabela['CO_CATEGAD'].notnull())]\n",
    "\n",
    "tabela['NT_GER'] = pandas.to_numeric(tabela['NT_GER'])\n",
    "\n",
    "tabela['QE_I17'] = tabela['QE_I17'].map({'A': 1, 'B': 2, 'C': 3, 'D': 1,'E': 2, 'F':3})\n",
    "tabela.head(10)"
   ]
  },
  {
   "cell_type": "code",
   "execution_count": 28,
   "metadata": {
    "scrolled": true
   },
   "outputs": [],
   "source": [
    "federal = tabela[tabela['CO_CATEGAD'] == 1]\n",
    "estadual = tabela[tabela['CO_CATEGAD'] == 2]\n",
    "publica = tabela.loc[(tabela['CO_CATEGAD'] == 1) | (tabela['CO_CATEGAD'] == 2)]\n",
    "particular = tabela.loc[(tabela['CO_CATEGAD'] == 4) | (tabela['CO_CATEGAD'] == 5)]"
   ]
  },
  {
   "cell_type": "code",
   "execution_count": 29,
   "metadata": {},
   "outputs": [
    {
     "data": {
      "text/plain": [
       "<matplotlib.legend.Legend at 0x201210b95c0>"
      ]
     },
     "execution_count": 29,
     "metadata": {},
     "output_type": "execute_result"
    },
    {
     "data": {
      "image/png": "[encoded data removed]",
      "text/plain": [
       "<Figure size 432x288 with 1 Axes>"
      ]
     },
     "metadata": {
      "needs_background": "light"
     },
     "output_type": "display_data"
    }
   ],
   "source": [
    "federal.NT_GER.loc[federal.CO_CATEGAD == 1].hist(label = \"Federais\")\n",
    "estadual.NT_GER.loc[estadual.CO_CATEGAD == 2].hist(label = \"Estaduais\")\n",
    "\n",
    "\n",
    "plt.xlabel(\"Nota ENADE\")\n",
    "plt.ylabel(\"Quantidade de Alunos\")\n",
    "plt.legend()"
   ]
  },
  {
   "cell_type": "code",
   "execution_count": 33,
   "metadata": {},
   "outputs": [
    {
     "data": {
      "text/plain": [
       "<matplotlib.legend.Legend at 0x20132cdb470>"
      ]
     },
     "execution_count": 33,
     "metadata": {},
     "output_type": "execute_result"
    },
    {
     "data": {
      "image/png": "[encoded data removed]",
      "text/plain": [
       "<Figure size 432x288 with 1 Axes>"
      ]
     },
     "metadata": {
      "needs_background": "light"
     },
     "output_type": "display_data"
    }
   ],
   "source": [
    "particular.NT_GER.loc[(particular.CO_CATEGAD == 4) | (particular.CO_CATEGAD == 5)].hist(label = \"Particular\")\n",
    "publica.NT_GER.loc[(publica.CO_CATEGAD == 1) | (publica.CO_CATEGAD == 2)].hist(label = \"Pública\")\n",
    "\n",
    "\n",
    "plt.xlabel(\"Nota ENADE\")\n",
    "plt.ylabel(\"Quantidade de Alunos\")\n",
    "plt.legend()"
   ]
  },
  {
   "cell_type": "code",
   "execution_count": 38,
   "metadata": {},
   "outputs": [
    {
     "data": {
      "text/html": [
       "<div>\n",
       "<style scoped>\n",
       "    .dataframe tbody tr th:only-of-type {\n",
       "        vertical-align: middle;\n",
       "    }\n",
       "\n",
       "    .dataframe tbody tr th {\n",
       "        vertical-align: top;\n",
       "    }\n",
       "\n",
       "    .dataframe thead th {\n",
       "        text-align: right;\n",
       "    }\n",
       "</style>\n",
       "<table border=\"1\" class=\"dataframe\">\n",
       "  <thead>\n",
       "    <tr style=\"text-align: right;\">\n",
       "      <th></th>\n",
       "      <th>NT_GER</th>\n",
       "      <th>CO_CATEGAD</th>\n",
       "      <th>QE_I17</th>\n",
       "      <th>CO_UF_CURSO</th>\n",
       "    </tr>\n",
       "  </thead>\n",
       "  <tbody>\n",
       "    <tr>\n",
       "      <th>count</th>\n",
       "      <td>1370.000000</td>\n",
       "      <td>1370.000000</td>\n",
       "      <td>1370.0</td>\n",
       "      <td>1370.000000</td>\n",
       "    </tr>\n",
       "    <tr>\n",
       "      <th>mean</th>\n",
       "      <td>48.266788</td>\n",
       "      <td>3.386861</td>\n",
       "      <td>3.0</td>\n",
       "      <td>35.730657</td>\n",
       "    </tr>\n",
       "    <tr>\n",
       "      <th>std</th>\n",
       "      <td>15.082083</td>\n",
       "      <td>1.662758</td>\n",
       "      <td>0.0</td>\n",
       "      <td>7.091884</td>\n",
       "    </tr>\n",
       "    <tr>\n",
       "      <th>min</th>\n",
       "      <td>0.000000</td>\n",
       "      <td>1.000000</td>\n",
       "      <td>3.0</td>\n",
       "      <td>11.000000</td>\n",
       "    </tr>\n",
       "    <tr>\n",
       "      <th>25%</th>\n",
       "      <td>37.325000</td>\n",
       "      <td>1.000000</td>\n",
       "      <td>3.0</td>\n",
       "      <td>32.000000</td>\n",
       "    </tr>\n",
       "    <tr>\n",
       "      <th>50%</th>\n",
       "      <td>48.600000</td>\n",
       "      <td>4.000000</td>\n",
       "      <td>3.0</td>\n",
       "      <td>35.000000</td>\n",
       "    </tr>\n",
       "    <tr>\n",
       "      <th>75%</th>\n",
       "      <td>59.500000</td>\n",
       "      <td>5.000000</td>\n",
       "      <td>3.0</td>\n",
       "      <td>41.000000</td>\n",
       "    </tr>\n",
       "    <tr>\n",
       "      <th>max</th>\n",
       "      <td>89.400000</td>\n",
       "      <td>7.000000</td>\n",
       "      <td>3.0</td>\n",
       "      <td>53.000000</td>\n",
       "    </tr>\n",
       "  </tbody>\n",
       "</table>\n",
       "</div>"
      ],
      "text/plain": [
       "            NT_GER   CO_CATEGAD  QE_I17  CO_UF_CURSO\n",
       "count  1370.000000  1370.000000  1370.0  1370.000000\n",
       "mean     48.266788     3.386861     3.0    35.730657\n",
       "std      15.082083     1.662758     0.0     7.091884\n",
       "min       0.000000     1.000000     3.0    11.000000\n",
       "25%      37.325000     1.000000     3.0    32.000000\n",
       "50%      48.600000     4.000000     3.0    35.000000\n",
       "75%      59.500000     5.000000     3.0    41.000000\n",
       "max      89.400000     7.000000     3.0    53.000000"
      ]
     },
     "execution_count": 38,
     "metadata": {},
     "output_type": "execute_result"
    }
   ],
   "source": [
    "escola_publica = tabela[tabela['QE_I17'] == 1]\n",
    "escola_privada = tabela[tabela['QE_I17'] == 2]\n",
    "escola_exterior = tabela[tabela['QE_I17'] == 3]\n",
    "#escola_exterior.head(500)\n",
    "escola_exterior.describe()"
   ]
  }
 ],
 "metadata": {
  "kernelspec": {
   "display_name": "Python 3",
   "language": "python",
   "name": "python3"
  },
  "language_info": {
   "codemirror_mode": {
    "name": "ipython",
    "version": 3
   },
   "file_extension": ".py",
   "mimetype": "text/x-python",
   "name": "python",
   "nbconvert_exporter": "python",
   "pygments_lexer": "ipython3",
   "version": "3.6.6"
  }
 },
 "nbformat": 4,
 "nbformat_minor": 2
}
